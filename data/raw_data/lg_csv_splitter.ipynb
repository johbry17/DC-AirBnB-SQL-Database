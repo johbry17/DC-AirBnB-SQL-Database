{
 "cells": [
  {
   "cell_type": "markdown",
   "metadata": {},
   "source": [
    "Splits csv's in half. For csv's over 100MB, too large to push to github"
   ]
  },
  {
   "cell_type": "code",
   "execution_count": 25,
   "metadata": {},
   "outputs": [
    {
     "name": "stdout",
     "output_type": "stream",
     "text": [
      "Lenght of df: 2447281\n"
     ]
    }
   ],
   "source": [
    "# import dependencies\n",
    "import pandas as pd\n",
    "\n",
    "# load csv\n",
    "df = pd.read_csv('./raw_data/2023_sep/calendar.csv')\n",
    "print(f\"Lenght of df: {len(df)}\")\n",
    "\n",
    "# find middle\n",
    "midpoint = len(df) // 2\n",
    "\n",
    "# split csv in half\n",
    "first_half = df.iloc[:midpoint]\n",
    "second_half = df.iloc[midpoint:]\n",
    "\n",
    "# export each half\n",
    "first_half.to_csv('./raw_data/2023_sep/calendar_2023_sep_pt1.csv', index=False)\n",
    "second_half.to_csv('./raw_data/2023_sep/calendar_2023_sep_pt2.csv', index=False)"
   ]
  },
  {
   "cell_type": "markdown",
   "metadata": {},
   "source": [
    "Use length of df to double check it worked"
   ]
  },
  {
   "cell_type": "code",
   "execution_count": 26,
   "metadata": {},
   "outputs": [
    {
     "data": {
      "text/html": [
       "<div>\n",
       "<style scoped>\n",
       "    .dataframe tbody tr th:only-of-type {\n",
       "        vertical-align: middle;\n",
       "    }\n",
       "\n",
       "    .dataframe tbody tr th {\n",
       "        vertical-align: top;\n",
       "    }\n",
       "\n",
       "    .dataframe thead th {\n",
       "        text-align: right;\n",
       "    }\n",
       "</style>\n",
       "<table border=\"1\" class=\"dataframe\">\n",
       "  <thead>\n",
       "    <tr style=\"text-align: right;\">\n",
       "      <th></th>\n",
       "      <th>listing_id</th>\n",
       "      <th>date</th>\n",
       "      <th>available</th>\n",
       "      <th>price</th>\n",
       "      <th>adjusted_price</th>\n",
       "      <th>minimum_nights</th>\n",
       "      <th>maximum_nights</th>\n",
       "    </tr>\n",
       "  </thead>\n",
       "  <tbody>\n",
       "    <tr>\n",
       "      <th>0</th>\n",
       "      <td>3686</td>\n",
       "      <td>2023-09-13</td>\n",
       "      <td>f</td>\n",
       "      <td>$67.00</td>\n",
       "      <td>$67.00</td>\n",
       "      <td>31</td>\n",
       "      <td>365</td>\n",
       "    </tr>\n",
       "    <tr>\n",
       "      <th>1</th>\n",
       "      <td>3686</td>\n",
       "      <td>2023-09-14</td>\n",
       "      <td>f</td>\n",
       "      <td>$67.00</td>\n",
       "      <td>$67.00</td>\n",
       "      <td>31</td>\n",
       "      <td>365</td>\n",
       "    </tr>\n",
       "    <tr>\n",
       "      <th>2</th>\n",
       "      <td>3686</td>\n",
       "      <td>2023-09-15</td>\n",
       "      <td>f</td>\n",
       "      <td>$67.00</td>\n",
       "      <td>$67.00</td>\n",
       "      <td>31</td>\n",
       "      <td>365</td>\n",
       "    </tr>\n",
       "    <tr>\n",
       "      <th>3</th>\n",
       "      <td>3686</td>\n",
       "      <td>2023-09-16</td>\n",
       "      <td>f</td>\n",
       "      <td>$67.00</td>\n",
       "      <td>$67.00</td>\n",
       "      <td>31</td>\n",
       "      <td>365</td>\n",
       "    </tr>\n",
       "    <tr>\n",
       "      <th>4</th>\n",
       "      <td>3686</td>\n",
       "      <td>2023-09-17</td>\n",
       "      <td>f</td>\n",
       "      <td>$67.00</td>\n",
       "      <td>$67.00</td>\n",
       "      <td>31</td>\n",
       "      <td>365</td>\n",
       "    </tr>\n",
       "    <tr>\n",
       "      <th>...</th>\n",
       "      <td>...</td>\n",
       "      <td>...</td>\n",
       "      <td>...</td>\n",
       "      <td>...</td>\n",
       "      <td>...</td>\n",
       "      <td>...</td>\n",
       "      <td>...</td>\n",
       "    </tr>\n",
       "    <tr>\n",
       "      <th>2447276</th>\n",
       "      <td>978844219371308168</td>\n",
       "      <td>2024-09-07</td>\n",
       "      <td>f</td>\n",
       "      <td>$53.00</td>\n",
       "      <td>$53.00</td>\n",
       "      <td>90</td>\n",
       "      <td>365</td>\n",
       "    </tr>\n",
       "    <tr>\n",
       "      <th>2447277</th>\n",
       "      <td>978844219371308168</td>\n",
       "      <td>2024-09-08</td>\n",
       "      <td>f</td>\n",
       "      <td>$53.00</td>\n",
       "      <td>$53.00</td>\n",
       "      <td>90</td>\n",
       "      <td>365</td>\n",
       "    </tr>\n",
       "    <tr>\n",
       "      <th>2447278</th>\n",
       "      <td>978844219371308168</td>\n",
       "      <td>2024-09-09</td>\n",
       "      <td>f</td>\n",
       "      <td>$53.00</td>\n",
       "      <td>$53.00</td>\n",
       "      <td>90</td>\n",
       "      <td>365</td>\n",
       "    </tr>\n",
       "    <tr>\n",
       "      <th>2447279</th>\n",
       "      <td>978844219371308168</td>\n",
       "      <td>2024-09-10</td>\n",
       "      <td>f</td>\n",
       "      <td>$53.00</td>\n",
       "      <td>$53.00</td>\n",
       "      <td>90</td>\n",
       "      <td>365</td>\n",
       "    </tr>\n",
       "    <tr>\n",
       "      <th>2447280</th>\n",
       "      <td>978844219371308168</td>\n",
       "      <td>2024-09-11</td>\n",
       "      <td>f</td>\n",
       "      <td>$53.00</td>\n",
       "      <td>$53.00</td>\n",
       "      <td>90</td>\n",
       "      <td>365</td>\n",
       "    </tr>\n",
       "  </tbody>\n",
       "</table>\n",
       "<p>2447281 rows × 7 columns</p>\n",
       "</div>"
      ],
      "text/plain": [
       "                 listing_id        date available   price adjusted_price  \\\n",
       "0                      3686  2023-09-13         f  $67.00         $67.00   \n",
       "1                      3686  2023-09-14         f  $67.00         $67.00   \n",
       "2                      3686  2023-09-15         f  $67.00         $67.00   \n",
       "3                      3686  2023-09-16         f  $67.00         $67.00   \n",
       "4                      3686  2023-09-17         f  $67.00         $67.00   \n",
       "...                     ...         ...       ...     ...            ...   \n",
       "2447276  978844219371308168  2024-09-07         f  $53.00         $53.00   \n",
       "2447277  978844219371308168  2024-09-08         f  $53.00         $53.00   \n",
       "2447278  978844219371308168  2024-09-09         f  $53.00         $53.00   \n",
       "2447279  978844219371308168  2024-09-10         f  $53.00         $53.00   \n",
       "2447280  978844219371308168  2024-09-11         f  $53.00         $53.00   \n",
       "\n",
       "         minimum_nights  maximum_nights  \n",
       "0                    31             365  \n",
       "1                    31             365  \n",
       "2                    31             365  \n",
       "3                    31             365  \n",
       "4                    31             365  \n",
       "...                 ...             ...  \n",
       "2447276              90             365  \n",
       "2447277              90             365  \n",
       "2447278              90             365  \n",
       "2447279              90             365  \n",
       "2447280              90             365  \n",
       "\n",
       "[2447281 rows x 7 columns]"
      ]
     },
     "execution_count": 26,
     "metadata": {},
     "output_type": "execute_result"
    }
   ],
   "source": [
    "# put csv back together\n",
    "df = pd.concat([first_half, second_half])\n",
    "df"
   ]
  },
  {
   "cell_type": "code",
   "execution_count": 27,
   "metadata": {},
   "outputs": [
    {
     "data": {
      "text/plain": [
       "2447281"
      ]
     },
     "execution_count": 27,
     "metadata": {},
     "output_type": "execute_result"
    }
   ],
   "source": [
    "len(first_half) + len(second_half)"
   ]
  }
 ],
 "metadata": {
  "kernelspec": {
   "display_name": "dev",
   "language": "python",
   "name": "python3"
  },
  "language_info": {
   "codemirror_mode": {
    "name": "ipython",
    "version": 3
   },
   "file_extension": ".py",
   "mimetype": "text/x-python",
   "name": "python",
   "nbconvert_exporter": "python",
   "pygments_lexer": "ipython3",
   "version": "3.10.13"
  }
 },
 "nbformat": 4,
 "nbformat_minor": 2
}
