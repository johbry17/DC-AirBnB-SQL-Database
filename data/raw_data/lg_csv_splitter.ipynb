{
 "cells": [
  {
   "cell_type": "markdown",
   "metadata": {},
   "source": [
    "Splits csv's in half. For csv's over 100MB, too large to push to github"
   ]
  },
  {
   "cell_type": "code",
   "execution_count": 5,
   "metadata": {},
   "outputs": [
    {
     "name": "stdout",
     "output_type": "stream",
     "text": [
      "Lenght of df: 351177\n"
     ]
    }
   ],
   "source": [
    "# import dependencies\n",
    "import pandas as pd\n",
    "\n",
    "# load csv\n",
    "df = pd.read_csv('./reviews.csv')\n",
    "print(f\"Lenght of df: {len(df)}\")\n",
    "\n",
    "# find middle\n",
    "midpoint = len(df) // 2\n",
    "\n",
    "# split csv in half\n",
    "first_half = df.iloc[:midpoint]\n",
    "second_half = df.iloc[midpoint:]\n",
    "\n",
    "# export each half\n",
    "first_half.to_csv('./reviews_detailed_2024_jun_pt1.csv', index=False)\n",
    "second_half.to_csv('./reviews_detailed_2024_jun_pt2.csv', index=False)"
   ]
  },
  {
   "cell_type": "markdown",
   "metadata": {},
   "source": [
    "Use length of df to double check it worked"
   ]
  },
  {
   "cell_type": "code",
   "execution_count": 6,
   "metadata": {},
   "outputs": [
    {
     "data": {
      "text/html": [
       "<div>\n",
       "<style scoped>\n",
       "    .dataframe tbody tr th:only-of-type {\n",
       "        vertical-align: middle;\n",
       "    }\n",
       "\n",
       "    .dataframe tbody tr th {\n",
       "        vertical-align: top;\n",
       "    }\n",
       "\n",
       "    .dataframe thead th {\n",
       "        text-align: right;\n",
       "    }\n",
       "</style>\n",
       "<table border=\"1\" class=\"dataframe\">\n",
       "  <thead>\n",
       "    <tr style=\"text-align: right;\">\n",
       "      <th></th>\n",
       "      <th>listing_id</th>\n",
       "      <th>id</th>\n",
       "      <th>date</th>\n",
       "      <th>reviewer_id</th>\n",
       "      <th>reviewer_name</th>\n",
       "      <th>comments</th>\n",
       "    </tr>\n",
       "  </thead>\n",
       "  <tbody>\n",
       "    <tr>\n",
       "      <th>0</th>\n",
       "      <td>3686</td>\n",
       "      <td>131293</td>\n",
       "      <td>2010-11-01</td>\n",
       "      <td>257234</td>\n",
       "      <td>Callie</td>\n",
       "      <td>Staying with Levita and her wonderful family w...</td>\n",
       "    </tr>\n",
       "    <tr>\n",
       "      <th>1</th>\n",
       "      <td>32087</td>\n",
       "      <td>567384</td>\n",
       "      <td>2011-09-25</td>\n",
       "      <td>1192632</td>\n",
       "      <td>Sven</td>\n",
       "      <td>Very accommodating host, curteous, beautiful l...</td>\n",
       "    </tr>\n",
       "    <tr>\n",
       "      <th>2</th>\n",
       "      <td>32087</td>\n",
       "      <td>1708259</td>\n",
       "      <td>2012-07-14</td>\n",
       "      <td>1321181</td>\n",
       "      <td>Michael</td>\n",
       "      <td>Excellent! Will definitely stay here again. Gr...</td>\n",
       "    </tr>\n",
       "    <tr>\n",
       "      <th>3</th>\n",
       "      <td>32087</td>\n",
       "      <td>5389855</td>\n",
       "      <td>2013-06-27</td>\n",
       "      <td>4642537</td>\n",
       "      <td>Yve</td>\n",
       "      <td>Staying at American Guest House was the best d...</td>\n",
       "    </tr>\n",
       "    <tr>\n",
       "      <th>4</th>\n",
       "      <td>32087</td>\n",
       "      <td>11115970</td>\n",
       "      <td>2014-03-21</td>\n",
       "      <td>12842454</td>\n",
       "      <td>Crystal</td>\n",
       "      <td>The guest house was very nice - most comfortab...</td>\n",
       "    </tr>\n",
       "    <tr>\n",
       "      <th>...</th>\n",
       "      <td>...</td>\n",
       "      <td>...</td>\n",
       "      <td>...</td>\n",
       "      <td>...</td>\n",
       "      <td>...</td>\n",
       "      <td>...</td>\n",
       "    </tr>\n",
       "    <tr>\n",
       "      <th>351172</th>\n",
       "      <td>1174782697171003169</td>\n",
       "      <td>1178304081439381327</td>\n",
       "      <td>2024-06-13</td>\n",
       "      <td>260392520</td>\n",
       "      <td>Seth</td>\n",
       "      <td>Very comfortable stay near Capitol Hill! The h...</td>\n",
       "    </tr>\n",
       "    <tr>\n",
       "      <th>351173</th>\n",
       "      <td>1174847263231173602</td>\n",
       "      <td>1181183266910934958</td>\n",
       "      <td>2024-06-17</td>\n",
       "      <td>578851605</td>\n",
       "      <td>Wentao</td>\n",
       "      <td>MoniQua is very responsive and helpful, the un...</td>\n",
       "    </tr>\n",
       "    <tr>\n",
       "      <th>351174</th>\n",
       "      <td>1176086612220639801</td>\n",
       "      <td>1180481549453362443</td>\n",
       "      <td>2024-06-16</td>\n",
       "      <td>215964473</td>\n",
       "      <td>Tanya</td>\n",
       "      <td>I loved everything about this adorable apartme...</td>\n",
       "    </tr>\n",
       "    <tr>\n",
       "      <th>351175</th>\n",
       "      <td>1176908072393623018</td>\n",
       "      <td>1180471050508107267</td>\n",
       "      <td>2024-06-16</td>\n",
       "      <td>275124195</td>\n",
       "      <td>Deepak</td>\n",
       "      <td>Great location and cozy place!</td>\n",
       "    </tr>\n",
       "    <tr>\n",
       "      <th>351176</th>\n",
       "      <td>1181139419019066786</td>\n",
       "      <td>1183360289640553960</td>\n",
       "      <td>2024-06-20</td>\n",
       "      <td>436681818</td>\n",
       "      <td>Hector</td>\n",
       "      <td>Mi familia y yo viajamos a Washington DC por u...</td>\n",
       "    </tr>\n",
       "  </tbody>\n",
       "</table>\n",
       "<p>351177 rows × 6 columns</p>\n",
       "</div>"
      ],
      "text/plain": [
       "                 listing_id                   id        date  reviewer_id  \\\n",
       "0                      3686               131293  2010-11-01       257234   \n",
       "1                     32087               567384  2011-09-25      1192632   \n",
       "2                     32087              1708259  2012-07-14      1321181   \n",
       "3                     32087              5389855  2013-06-27      4642537   \n",
       "4                     32087             11115970  2014-03-21     12842454   \n",
       "...                     ...                  ...         ...          ...   \n",
       "351172  1174782697171003169  1178304081439381327  2024-06-13    260392520   \n",
       "351173  1174847263231173602  1181183266910934958  2024-06-17    578851605   \n",
       "351174  1176086612220639801  1180481549453362443  2024-06-16    215964473   \n",
       "351175  1176908072393623018  1180471050508107267  2024-06-16    275124195   \n",
       "351176  1181139419019066786  1183360289640553960  2024-06-20    436681818   \n",
       "\n",
       "       reviewer_name                                           comments  \n",
       "0             Callie  Staying with Levita and her wonderful family w...  \n",
       "1               Sven  Very accommodating host, curteous, beautiful l...  \n",
       "2            Michael  Excellent! Will definitely stay here again. Gr...  \n",
       "3                Yve  Staying at American Guest House was the best d...  \n",
       "4            Crystal  The guest house was very nice - most comfortab...  \n",
       "...              ...                                                ...  \n",
       "351172          Seth  Very comfortable stay near Capitol Hill! The h...  \n",
       "351173        Wentao  MoniQua is very responsive and helpful, the un...  \n",
       "351174         Tanya  I loved everything about this adorable apartme...  \n",
       "351175        Deepak                     Great location and cozy place!  \n",
       "351176        Hector  Mi familia y yo viajamos a Washington DC por u...  \n",
       "\n",
       "[351177 rows x 6 columns]"
      ]
     },
     "execution_count": 6,
     "metadata": {},
     "output_type": "execute_result"
    }
   ],
   "source": [
    "# put csv back together\n",
    "df = pd.concat([first_half, second_half])\n",
    "df"
   ]
  },
  {
   "cell_type": "code",
   "execution_count": 7,
   "metadata": {},
   "outputs": [
    {
     "data": {
      "text/plain": [
       "351177"
      ]
     },
     "execution_count": 7,
     "metadata": {},
     "output_type": "execute_result"
    }
   ],
   "source": [
    "len(first_half) + len(second_half)"
   ]
  }
 ],
 "metadata": {
  "kernelspec": {
   "display_name": "dev",
   "language": "python",
   "name": "python3"
  },
  "language_info": {
   "codemirror_mode": {
    "name": "ipython",
    "version": 3
   },
   "file_extension": ".py",
   "mimetype": "text/x-python",
   "name": "python",
   "nbconvert_exporter": "python",
   "pygments_lexer": "ipython3",
   "version": "3.10.13"
  }
 },
 "nbformat": 4,
 "nbformat_minor": 2
}
